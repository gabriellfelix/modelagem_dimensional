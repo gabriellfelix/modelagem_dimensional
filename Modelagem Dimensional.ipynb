{
 "cells": [
  {
   "cell_type": "code",
   "execution_count": 1,
   "id": "d039cfb4-db1a-489f-9c69-4dfb4889eb86",
   "metadata": {},
   "outputs": [],
   "source": [
    "# Bibliotecas essenciais para processamento distribuído com PySpark\n",
    "# Funções específicas para transformação de dados e criação de IDs\n",
    "# Definição de tipos de dados para garantir integridade do schema\n",
    "\n",
    "from pyspark.sql import SparkSession\n",
    "from pyspark.sql.functions import broadcast, monotonically_increasing_id, year, month, dayofmonth, date_format, col, count, when, isnan, expr, lower\n",
    "from pyspark.sql.types import StructType, StructField, StringType, DateType, IntegerType, DoubleType\n",
    "import os"
   ]
  },
  {
   "cell_type": "code",
   "execution_count": 2,
   "id": "705c081b-b40f-4816-a8d7-a03ee367bc74",
   "metadata": {},
   "outputs": [],
   "source": [
    "# Inicialização do Spark com configuração local para processamento dos dados de vendas\n",
    "\n",
    "spark = SparkSession.builder.appName(\"Modelagem Dimensional - Vendas\").master(\"local[*]\").getOrCreate()"
   ]
  },
  {
   "cell_type": "code",
   "execution_count": 3,
   "id": "1e5a8baf-eafc-472c-af6b-8c6257ab3dc2",
   "metadata": {},
   "outputs": [],
   "source": [
    "BASE_PATH = \"dados\"\n",
    "INPUT_PATH = os.path.join(BASE_PATH, \"entrada\")\n",
    "OUTPUT_PATH = os.path.join(BASE_PATH, \"saida\")"
   ]
  },
  {
   "cell_type": "markdown",
   "id": "3fcb4208-fba4-4bff-ae92-f422146331ba",
   "metadata": {
    "jp-MarkdownHeadingCollapsed": true
   },
   "source": [
    "### Definição do schema e carregamento dos dados brutos"
   ]
  },
  {
   "cell_type": "code",
   "execution_count": 4,
   "id": "78a13ac6-6d08-4e9d-b992-8a34cbf873d0",
   "metadata": {},
   "outputs": [],
   "source": [
    "# Schema explícito para evitar inferências incorretas de tipos\n",
    "# Campos definidos como não-nullable (False) para garantir integridade\n",
    "\n",
    "schema = StructType([\n",
    "    StructField(\"nome_cliente\", StringType(), False),\n",
    "    StructField(\"cidade\", StringType(), False),\n",
    "    StructField(\"estado\", StringType(), False), \n",
    "    StructField(\"nome_produto\", StringType(), False),\n",
    "    StructField(\"categoria\", StringType(), False),\n",
    "    StructField(\"fabricante\", StringType(), False),\n",
    "    StructField(\"data\", DateType(), False),\n",
    "    StructField(\"qtd_vendida\", IntegerType(), False),\n",
    "    StructField(\"valor_total\", DoubleType(), False)\n",
    "])"
   ]
  },
  {
   "cell_type": "code",
   "execution_count": 5,
   "id": "c774ca1c-e0c7-4e7d-bee7-365f9af20321",
   "metadata": {},
   "outputs": [],
   "source": [
    "# Carregamento dos dados brutos com schema predefinido\n",
    "\n",
    "df_bruto = spark.read.csv(os.path.join(INPUT_PATH,\"dados_brutos.csv\"), header=True, schema=schema)"
   ]
  },
  {
   "cell_type": "code",
   "execution_count": 6,
   "id": "0e4be0cd-f46a-4edd-95ba-f4d7c15bc0eb",
   "metadata": {},
   "outputs": [
    {
     "name": "stdout",
     "output_type": "stream",
     "text": [
      "+-------------+--------------+------+------------+---------+----------+----------+-----------+-----------+\n",
      "| nome_cliente|        cidade|estado|nome_produto|categoria|fabricante|      data|qtd_vendida|valor_total|\n",
      "+-------------+--------------+------+------------+---------+----------+----------+-----------+-----------+\n",
      "|Lucas Pereira|  Porto Alegre|    RS|  Detergente|  Limpeza|       Ypê|2024-01-26|          6|       90.0|\n",
      "|Lucas Pereira|  Porto Alegre|    RS|      Feijão| Alimento|   Kicaldo|2024-01-14|         10|      240.0|\n",
      "| Ana Oliveira|Rio de Janeiro|    RJ|Refrigerante|   Bebida| Coca-Cola|2024-01-15|          3|      150.0|\n",
      "| Pedro Santos|      Curitiba|    PR|      Feijão| Alimento|   Kicaldo|2024-01-28|          4|      152.0|\n",
      "| Pedro Santos|      Curitiba|    PR|       Arroz| Alimento|     Camil|2024-01-24|          3|       87.0|\n",
      "+-------------+--------------+------+------------+---------+----------+----------+-----------+-----------+\n",
      "only showing top 5 rows\n",
      "\n",
      "root\n",
      " |-- nome_cliente: string (nullable = true)\n",
      " |-- cidade: string (nullable = true)\n",
      " |-- estado: string (nullable = true)\n",
      " |-- nome_produto: string (nullable = true)\n",
      " |-- categoria: string (nullable = true)\n",
      " |-- fabricante: string (nullable = true)\n",
      " |-- data: date (nullable = true)\n",
      " |-- qtd_vendida: integer (nullable = true)\n",
      " |-- valor_total: double (nullable = true)\n",
      "\n"
     ]
    }
   ],
   "source": [
    "df_bruto.show(n=5)\n",
    "df_bruto.printSchema()"
   ]
  },
  {
   "cell_type": "code",
   "execution_count": 7,
   "id": "054c87ab-1f54-410d-b727-054534dfd447",
   "metadata": {},
   "outputs": [],
   "source": [
    "# Renomeação de colunas para seguir padrão dimensional com prefixo 'nome_'\n",
    "# Importante para clareza e consistência no modelo dimensional\n",
    "\n",
    "colunas_renomeacao = {\n",
    "    \"cidade\": \"nome_cidade\",\n",
    "    \"estado\": \"nome_estado\",\n",
    "    \"categoria\": \"nome_categoria\",\n",
    "    \"fabricante\": \"nome_fabricante\"\n",
    "}\n",
    "\n",
    "for nome_antigo, nome_novo in colunas_renomeacao.items():\n",
    "    df_bruto = df_bruto.withColumnRenamed(nome_antigo, nome_novo)"
   ]
  },
  {
   "cell_type": "code",
   "execution_count": 8,
   "id": "2fa2c94c-dd7c-4913-9209-ebe7b55ff9d1",
   "metadata": {},
   "outputs": [
    {
     "name": "stdout",
     "output_type": "stream",
     "text": [
      "Colunas numéricas: ['qtd_vendida', 'valor_total']\n",
      "Colunas categóricas: ['nome_cliente', 'nome_cidade', 'nome_estado', 'nome_produto', 'nome_categoria', 'nome_fabricante']\n"
     ]
    }
   ],
   "source": [
    "# Separação de colunas por tipo para facilitar análises específicas\n",
    "\n",
    "colunas_numericas = [nome for nome, tipo in df_bruto.dtypes if tipo in ('int', 'double', 'float', 'long', 'short', 'decimal')]\n",
    "colunas_categoricas = [nome for nome, tipo in df_bruto.dtypes if tipo in ('string', 'boolean')]\n",
    "\n",
    "print(\"Colunas numéricas:\", colunas_numericas)\n",
    "print(\"Colunas categóricas:\", colunas_categoricas)"
   ]
  },
  {
   "cell_type": "markdown",
   "id": "77ee2a2b-c4a0-4c5a-9cd2-dc9daaa88b9f",
   "metadata": {
    "jp-MarkdownHeadingCollapsed": true
   },
   "source": [
    "### Verificação das estatísticas descritivas, inconsistências e valores ausentes"
   ]
  },
  {
   "cell_type": "code",
   "execution_count": 9,
   "id": "0e9cbd4d-6721-44fa-8572-31ee75ac34ac",
   "metadata": {},
   "outputs": [
    {
     "name": "stdout",
     "output_type": "stream",
     "text": [
      "+-------+------------------+------------------+\n",
      "|summary|       qtd_vendida|       valor_total|\n",
      "+-------+------------------+------------------+\n",
      "|  count|               100|               100|\n",
      "|   mean|              5.58|            148.44|\n",
      "| stddev|2.8645517215886613|108.93277697272707|\n",
      "|    min|                 1|               9.0|\n",
      "|    max|                10|             470.0|\n",
      "+-------+------------------+------------------+\n",
      "\n"
     ]
    }
   ],
   "source": [
    "# Estatísticas descritivas dos dados numéricos para validação inicial\n",
    "\n",
    "df_bruto[colunas_numericas].describe().show()"
   ]
  },
  {
   "cell_type": "code",
   "execution_count": 10,
   "id": "06623c8d-a204-41b1-b51e-5696aff71113",
   "metadata": {},
   "outputs": [],
   "source": [
    "# Função robusta para detectar valores nulos conforme o tipo de dado\n",
    "# Cálculo de percentual de nulos para avaliação de completude\n",
    "# Retorno booleano para facilitar integração com pipelines de validação\n",
    "\n",
    "def validar_qualidade_dados(df, nome_coluna):\n",
    "    \"\"\"Método para validar a qualidade dos dados em uma coluna (baseado apenas na quantidade de valores nulos)\"\"\"\n",
    "    coluna_dtype = dict(df.dtypes)[nome_coluna]\n",
    "    \n",
    "    if coluna_dtype in ['float', 'double', 'decimal', 'int', 'bigint', 'smallint', 'tinyint']:\n",
    "        condicao = col(nome_coluna).isNull() | isnan(col(nome_coluna)) | (col(nome_coluna) == \"\")\n",
    "    else:\n",
    "        condicao = col(nome_coluna).isNull() | (col(nome_coluna) == \"\")\n",
    "    \n",
    "    contagem_nulos = df.filter(condicao).count()\n",
    "    contagem_total = df.count()\n",
    "    percentual_nulos = (contagem_nulos / contagem_total) * 100 if contagem_total > 0 else 0\n",
    "    \n",
    "    print(f\"Coluna {nome_coluna}: {contagem_nulos} valores nulos ({percentual_nulos:.2f}%)\")\n",
    "    return contagem_nulos == 0"
   ]
  },
  {
   "cell_type": "code",
   "execution_count": 11,
   "id": "75cac6d0-0059-42aa-886d-4e037eb39521",
   "metadata": {},
   "outputs": [
    {
     "name": "stdout",
     "output_type": "stream",
     "text": [
      "Coluna nome_cliente: 0 valores nulos (0.00%)\n",
      "Coluna nome_cidade: 0 valores nulos (0.00%)\n",
      "Coluna nome_estado: 0 valores nulos (0.00%)\n",
      "Coluna nome_produto: 0 valores nulos (0.00%)\n",
      "Coluna nome_categoria: 0 valores nulos (0.00%)\n",
      "Coluna nome_fabricante: 0 valores nulos (0.00%)\n",
      "Coluna data: 0 valores nulos (0.00%)\n",
      "Coluna qtd_vendida: 0 valores nulos (0.00%)\n",
      "Coluna valor_total: 0 valores nulos (0.00%)\n"
     ]
    }
   ],
   "source": [
    "# Verificação de valores nulos em todas as colunas do dataset\n",
    "\n",
    "for coluna in df_bruto.columns:\n",
    "    validar_qualidade_dados(df_bruto, coluna)"
   ]
  },
  {
   "cell_type": "code",
   "execution_count": 12,
   "id": "3a76ab45-86f3-40d9-a707-6ce7e7b06204",
   "metadata": {},
   "outputs": [],
   "source": [
    "# Normalização de casing para garantir consistência nas dimensões\n",
    "# Estratégia fundamental para evitar duplicidades nas dimensões\n",
    "\n",
    "df_bruto = df_bruto.withColumn(\"nome_cliente\", expr(\"initcap(nome_cliente)\"))\n",
    "df_bruto = df_bruto.withColumn(\"nome_cidade\", expr(\"initcap(nome_cidade)\"))\n",
    "df_bruto = df_bruto.withColumn(\"nome_estado\", expr(\"upper(nome_estado)\"))\n",
    "df_bruto = df_bruto.withColumn(\"nome_produto\", expr(\"initcap(nome_produto)\"))\n",
    "df_bruto = df_bruto.withColumn(\"nome_categoria\", expr(\"initcap(nome_categoria)\"))\n",
    "df_bruto = df_bruto.withColumn(\"nome_fabricante\", expr(\"initcap(nome_fabricante)\"))"
   ]
  },
  {
   "cell_type": "code",
   "execution_count": 13,
   "id": "20e8ad8d-b074-437f-bc4c-86e0a2efac97",
   "metadata": {},
   "outputs": [
    {
     "name": "stdout",
     "output_type": "stream",
     "text": [
      "+-------------+--------------+-----------+------------+--------------+---------------+----------+-----------+-----------+\n",
      "| nome_cliente|   nome_cidade|nome_estado|nome_produto|nome_categoria|nome_fabricante|      data|qtd_vendida|valor_total|\n",
      "+-------------+--------------+-----------+------------+--------------+---------------+----------+-----------+-----------+\n",
      "|Lucas Pereira|  Porto Alegre|         RS|  Detergente|       Limpeza|            Ypê|2024-01-26|          6|       90.0|\n",
      "|Lucas Pereira|  Porto Alegre|         RS|      Feijão|      Alimento|        Kicaldo|2024-01-14|         10|      240.0|\n",
      "| Ana Oliveira|Rio De Janeiro|         RJ|Refrigerante|        Bebida|      Coca-cola|2024-01-15|          3|      150.0|\n",
      "| Pedro Santos|      Curitiba|         PR|      Feijão|      Alimento|        Kicaldo|2024-01-28|          4|      152.0|\n",
      "| Pedro Santos|      Curitiba|         PR|       Arroz|      Alimento|          Camil|2024-01-24|          3|       87.0|\n",
      "| Pedro Santos|      Curitiba|         PR|Refrigerante|        Bebida|      Coca-cola|2024-01-10|          6|      192.0|\n",
      "|   João Silva|     São Paulo|         SP|  Detergente|       Limpeza|            Ypê|2024-01-02|         10|      190.0|\n",
      "|Lucas Pereira|  Porto Alegre|         RS|      Feijão|      Alimento|        Kicaldo|2024-01-17|         10|      260.0|\n",
      "| Pedro Santos|      Curitiba|         PR| Sabão Em Pó|       Limpeza|            Omo|2024-01-24|          2|       90.0|\n",
      "|   João Silva|     São Paulo|         SP|      Feijão|      Alimento|        Kicaldo|2024-01-19|         10|      470.0|\n",
      "+-------------+--------------+-----------+------------+--------------+---------------+----------+-----------+-----------+\n",
      "only showing top 10 rows\n",
      "\n"
     ]
    }
   ],
   "source": [
    "df_bruto.show(10)"
   ]
  },
  {
   "cell_type": "markdown",
   "id": "b8cbe3d7-8681-4c95-80ae-e982db531e1e",
   "metadata": {
    "jp-MarkdownHeadingCollapsed": true
   },
   "source": [
    "### Identificação das dimensões e fato"
   ]
  },
  {
   "cell_type": "markdown",
   "id": "9edcf69e-1a10-4335-9eb4-3d28ec9f7e9e",
   "metadata": {},
   "source": [
    "A identificação das dimensões (Cliente, Produto, Local e Data) e do fato (Vendas) na modelagem dimensional seguiu a metodologia de Kimball, onde foram avaliados os elementos de análise do negócio separando claramente os descritores contextuais (dimensões) das métricas mensuráveis (fatos). As dimensões representam os diferentes contextos de análise (quem comprou, o que foi comprado, onde e quando ocorreu a compra), permitindo filtros e agrupamentos, enquanto a tabela fato armazena apenas as métricas numéricas (quantidade vendida e valor total) e as chaves para as dimensões. Esta estrutura em estrela otimiza consultas analíticas ao reduzir junções complexas e facilitar a navegação multidimensional dos dados de vendas."
   ]
  },
  {
   "cell_type": "markdown",
   "id": "fa33bc6c-6d03-4700-ae90-fe5f56e2dbbe",
   "metadata": {},
   "source": [
    "![Diagrama da Modelagem](diagrama.png)"
   ]
  },
  {
   "cell_type": "markdown",
   "id": "5e4bfe32-1083-45ed-977f-e7f90cf4f348",
   "metadata": {
    "jp-MarkdownHeadingCollapsed": true
   },
   "source": [
    "### Criação das tabelas dimensões e fato (modelagem dimensional)"
   ]
  },
  {
   "cell_type": "code",
   "execution_count": 14,
   "id": "36713864-b758-4659-8565-05aaaec7b5d7",
   "metadata": {},
   "outputs": [],
   "source": [
    "class ModelagemDimensional:\n",
    "    def __init__(self, spark_session):\n",
    "        self.spark = spark_session\n",
    "        self.dimensoes = {}\n",
    "        self.fatos = {}\n",
    "        \n",
    "    def extrair_dimensao(self, df_origem, nome_dimensao, colunas, chave_natural=None):\n",
    "        \"\"\"Método para extrair dimensões\"\"\"\n",
    "        dim = df_origem.select(*colunas).distinct()\n",
    "        chave_sk = f\"id_{nome_dimensao}\"\n",
    "        dim = dim.withColumn(chave_sk, monotonically_increasing_id())\n",
    "        self.dimensoes[nome_dimensao] = dim\n",
    "        print(f\"Dimensão {nome_dimensao} criada: {dim.count()} registros\")\n",
    "        return dim\n",
    "    \n",
    "    def construir_fato(self, df_origem, nome_fato, joins_dimensoes, metricas):\n",
    "        \"\"\"Método para construção de fatos\"\"\"\n",
    "        df_atual = df_origem.withColumn(f\"id_{nome_fato}\", monotonically_increasing_id())\n",
    "        \n",
    "        for dim_nome, configuracao in joins_dimensoes.items():\n",
    "            colunas_select = configuracao[\"colunas_join\"] + [configuracao[\"chave_sk\"]]\n",
    "            \n",
    "            df_atual = df_atual.join(\n",
    "                self.dimensoes[dim_nome].select(*colunas_select),\n",
    "                on=configuracao[\"colunas_join\"],\n",
    "                how=\"left\"\n",
    "            )\n",
    "        \n",
    "        colunas_finais = [f\"id_{nome_fato}\"] + [config[\"chave_sk\"] for config in joins_dimensoes.values()] + metricas\n",
    "        self.fatos[nome_fato] = df_atual.select(*colunas_finais)\n",
    "        return self.fatos[nome_fato]"
   ]
  },
  {
   "cell_type": "code",
   "execution_count": 15,
   "id": "2cc589ab-9286-4609-8947-0333430f1f48",
   "metadata": {},
   "outputs": [],
   "source": [
    "modelo = ModelagemDimensional(spark)"
   ]
  },
  {
   "cell_type": "code",
   "execution_count": 16,
   "id": "187e6f35-ef4c-442a-b575-37f73461f8ee",
   "metadata": {},
   "outputs": [
    {
     "name": "stdout",
     "output_type": "stream",
     "text": [
      "Dimensão cliente criada: 5 registros\n",
      "Dimensão produto criada: 5 registros\n",
      "Dimensão local criada: 5 registros\n",
      "Dimensão data criada: 29 registros\n"
     ]
    }
   ],
   "source": [
    "dim_cliente = modelo.extrair_dimensao(df_origem=df_bruto, nome_dimensao=\"cliente\", colunas=[\"nome_cliente\"])\n",
    "dim_produto = modelo.extrair_dimensao(df_origem=df_bruto, nome_dimensao=\"produto\", colunas=[\"nome_produto\", \"nome_categoria\", \"nome_fabricante\"])\n",
    "dim_local = modelo.extrair_dimensao(df_origem=df_bruto, nome_dimensao=\"local\", colunas=[\"nome_cidade\", \"nome_estado\"])\n",
    "dim_data = modelo.extrair_dimensao(df_origem=df_bruto, nome_dimensao=\"data\", colunas=[\"data\"])"
   ]
  },
  {
   "cell_type": "code",
   "execution_count": 17,
   "id": "31b25c70-aef7-4cd1-989b-dd13bce6560b",
   "metadata": {},
   "outputs": [],
   "source": [
    "# Enriquecimento da Dimensão Data\n",
    "\n",
    "dim_data = dim_data.withColumn(\"ano\", year(\"data\")) \\\n",
    "    .withColumn(\"mes\", month(\"data\")) \\\n",
    "    .withColumn(\"dia\", dayofmonth(\"data\")) \\\n",
    "    .withColumn(\"dia_semana\", date_format(\"data\", \"EEEE\"))\n",
    "\n",
    "modelo.dimensoes[\"data\"] = dim_data"
   ]
  },
  {
   "cell_type": "code",
   "execution_count": 18,
   "id": "76e4bcc1-eb7e-41f0-968d-900f0086ced5",
   "metadata": {},
   "outputs": [
    {
     "name": "stdout",
     "output_type": "stream",
     "text": [
      "\n",
      "Dimesão cliente:\n",
      "+-------------+----------+\n",
      "| nome_cliente|id_cliente|\n",
      "+-------------+----------+\n",
      "| Ana Oliveira|         0|\n",
      "| Pedro Santos|         1|\n",
      "|Lucas Pereira|         2|\n",
      "|   João Silva|         3|\n",
      "|  Maria Souza|         4|\n",
      "+-------------+----------+\n",
      "\n",
      "\n",
      "Dimesão produto:\n",
      "+------------+--------------+---------------+----------+\n",
      "|nome_produto|nome_categoria|nome_fabricante|id_produto|\n",
      "+------------+--------------+---------------+----------+\n",
      "| Sabão Em Pó|       Limpeza|            Omo|         0|\n",
      "|  Detergente|       Limpeza|            Ypê|         1|\n",
      "|       Arroz|      Alimento|          Camil|         2|\n",
      "|Refrigerante|        Bebida|      Coca-cola|         3|\n",
      "|      Feijão|      Alimento|        Kicaldo|         4|\n",
      "+------------+--------------+---------------+----------+\n",
      "\n",
      "\n",
      "Dimesão local:\n",
      "+--------------+-----------+--------+\n",
      "|   nome_cidade|nome_estado|id_local|\n",
      "+--------------+-----------+--------+\n",
      "|      Curitiba|         PR|       0|\n",
      "|     São Paulo|         SP|       1|\n",
      "|  Porto Alegre|         RS|       2|\n",
      "|Belo Horizonte|         MG|       3|\n",
      "|Rio De Janeiro|         RJ|       4|\n",
      "+--------------+-----------+--------+\n",
      "\n",
      "\n",
      "Dimesão data:\n",
      "+----------+-------+----+---+---+----------+\n",
      "|      data|id_data| ano|mes|dia|dia_semana|\n",
      "+----------+-------+----+---+---+----------+\n",
      "|2024-01-07|      0|2024|  1|  7|    Sunday|\n",
      "|2024-01-11|      1|2024|  1| 11|  Thursday|\n",
      "|2024-01-30|      2|2024|  1| 30|   Tuesday|\n",
      "|2024-01-14|      3|2024|  1| 14|    Sunday|\n",
      "|2024-01-02|      4|2024|  1|  2|   Tuesday|\n",
      "+----------+-------+----+---+---+----------+\n",
      "only showing top 5 rows\n",
      "\n"
     ]
    }
   ],
   "source": [
    "for nome, dim in modelo.dimensoes.items():\n",
    "    print(f\"\\nDimesão {nome}:\")\n",
    "    dim.show(5)"
   ]
  },
  {
   "cell_type": "markdown",
   "id": "782cde93-7621-4543-b0e7-b09609eb2652",
   "metadata": {},
   "source": [
    "#### Fato Vendas"
   ]
  },
  {
   "cell_type": "code",
   "execution_count": 19,
   "id": "48f0a5c0-4daf-4131-9d55-fd33d3fe4c47",
   "metadata": {},
   "outputs": [
    {
     "name": "stdout",
     "output_type": "stream",
     "text": [
      "Tabela fato Vendas criada: 100 registros\n",
      "+--------+----------+----------+--------+-------+-----------+-----------+\n",
      "|id_venda|id_cliente|id_produto|id_local|id_data|qtd_vendida|valor_total|\n",
      "+--------+----------+----------+--------+-------+-----------+-----------+\n",
      "|       0|         2|         1|       2|     11|          6|       90.0|\n",
      "|       1|         2|         4|       2|      3|         10|      240.0|\n",
      "|       2|         0|         3|       4|     15|          3|      150.0|\n",
      "|       3|         1|         4|       0|      8|          4|      152.0|\n",
      "|       4|         1|         2|       0|     14|          3|       87.0|\n",
      "|       5|         1|         3|       0|     16|          6|      192.0|\n",
      "|       6|         3|         1|       1|      4|         10|      190.0|\n",
      "|       7|         2|         4|       2|     19|         10|      260.0|\n",
      "|       8|         1|         0|       0|     14|          2|       90.0|\n",
      "|       9|         3|         4|       1|      7|         10|      470.0|\n",
      "|      10|         1|         3|       0|     11|          7|      273.0|\n",
      "|      11|         2|         2|       2|      7|          2|       42.0|\n",
      "|      12|         0|         0|       4|      6|          3|       57.0|\n",
      "|      13|         4|         2|       3|      4|          5|      220.0|\n",
      "|      14|         3|         1|       1|      9|          3|       39.0|\n",
      "|      15|         0|         1|       4|     24|          1|       33.0|\n",
      "|      16|         3|         3|       1|      7|          9|      162.0|\n",
      "|      17|         1|         2|       0|     10|          5|       35.0|\n",
      "|      18|         4|         0|       3|      7|          3|      117.0|\n",
      "|      19|         3|         2|       1|     12|          9|      441.0|\n",
      "+--------+----------+----------+--------+-------+-----------+-----------+\n",
      "only showing top 20 rows\n",
      "\n"
     ]
    }
   ],
   "source": [
    "joins_configuracao = {\n",
    "    \"cliente\": {\n",
    "        \"colunas_join\": [\"nome_cliente\"],\n",
    "        \"chave_sk\": \"id_cliente\"\n",
    "    },\n",
    "    \"produto\": {\n",
    "        \"colunas_join\": [\"nome_produto\", \"nome_categoria\", \"nome_fabricante\"],\n",
    "        \"chave_sk\": \"id_produto\"\n",
    "    },\n",
    "    \"local\": {\n",
    "        \"colunas_join\": [\"nome_cidade\", \"nome_estado\"],\n",
    "        \"chave_sk\": \"id_local\"\n",
    "    },\n",
    "    \"data\": {\n",
    "        \"colunas_join\": [\"data\"],\n",
    "        \"chave_sk\": \"id_data\"\n",
    "    }\n",
    "}\n",
    "\n",
    "metricas = [\"qtd_vendida\", \"valor_total\"]\n",
    "\n",
    "fato_vendas = modelo.construir_fato(df_origem=df_bruto, nome_fato=\"venda\", joins_dimensoes=joins_configuracao, metricas=metricas)\n",
    "\n",
    "print(f\"Tabela fato Vendas criada: {fato_vendas.count()} registros\")\n",
    "fato_vendas.orderBy(\"id_venda\").show()"
   ]
  },
  {
   "cell_type": "markdown",
   "id": "15521821-4e71-4574-8d3b-327189b05697",
   "metadata": {},
   "source": [
    "### Exportação dos resultados"
   ]
  },
  {
   "cell_type": "code",
   "execution_count": 20,
   "id": "fa4f376c-ea74-423c-9a98-3e1c18d0b1de",
   "metadata": {},
   "outputs": [],
   "source": [
    "# dim_cliente.write.csv(os.path.join(OUTPUT_PATH,\"dim_cliente.csv\"), header=True, mode=\"overwrite\")\n",
    "# dim_produto.write.csv(os.path.join(OUTPUT_PATH,\"dim_produto.csv\"), header=True, mode=\"overwrite\")\n",
    "# dim_data.write.csv(os.path.join(OUTPUT_PATH,\"dim_data.csv\"), header=True, mode=\"overwrite\")\n",
    "# dim_local.write.csv(os.path.join(OUTPUT_PATH,\"dim_local.csv\"), header=True, mode=\"overwrite\")\n",
    "\n",
    "# fato_vendas.write.csv(os.path.join(OUTPUT_PATH,\"fato_vendas.csv\"), header=True, mode=\"overwrite\")"
   ]
  },
  {
   "cell_type": "code",
   "execution_count": 21,
   "id": "ad5fbc56-c5c6-493c-b595-840de35d2234",
   "metadata": {},
   "outputs": [],
   "source": [
    "# Encerrar a sessão\n",
    "spark.stop()"
   ]
  },
  {
   "cell_type": "code",
   "execution_count": null,
   "id": "68ea4853-b7c9-4b67-aee3-d2f9c2205b75",
   "metadata": {},
   "outputs": [],
   "source": []
  }
 ],
 "metadata": {
  "kernelspec": {
   "display_name": "Python 3 (ipykernel)",
   "language": "python",
   "name": "python3"
  },
  "language_info": {
   "codemirror_mode": {
    "name": "ipython",
    "version": 3
   },
   "file_extension": ".py",
   "mimetype": "text/x-python",
   "name": "python",
   "nbconvert_exporter": "python",
   "pygments_lexer": "ipython3",
   "version": "3.12.4"
  }
 },
 "nbformat": 4,
 "nbformat_minor": 5
}
